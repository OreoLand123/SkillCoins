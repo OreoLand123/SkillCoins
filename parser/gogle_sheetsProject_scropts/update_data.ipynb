{
 "cells": [
  {
   "cell_type": "markdown",
   "metadata": {},
   "source": [
    "# Читаем данные"
   ]
  },
  {
   "cell_type": "code",
   "execution_count": 18,
   "metadata": {},
   "outputs": [],
   "source": [
    "from functions import read_data, write_data, clear_logs\n",
    "import pandas as pd\n",
    "\n",
    "# read the data\n",
    "results = read_data(\"Оценки\")\n",
    "reasons = read_data(\"Причины\")\n",
    "past_logs = read_data(\"Логи\")\n",
    "accounts_1 = read_data(\"Аккаунты\")\n",
    "accounts = [i[:4] for i in accounts_1]"
   ]
  },
  {
   "cell_type": "markdown",
   "metadata": {},
   "source": [
    "# Преобразование"
   ]
  },
  {
   "cell_type": "code",
   "execution_count": 19,
   "metadata": {},
   "outputs": [],
   "source": [
    "# Fill names on each row\n",
    "j = ''\n",
    "for i in results:\n",
    "    if i[0] == '':\n",
    "        i[0] = j\n",
    "    j = i [0]"
   ]
  },
  {
   "cell_type": "code",
   "execution_count": 20,
   "metadata": {},
   "outputs": [],
   "source": [
    "df = pd.DataFrame(results)\n",
    "df = df[df[1] != '']\n",
    "df[\"sum_of_pluses\"] = df[range(2,12)].T.apply(lambda x: x.str.count(\"\\+\")).sum()\n",
    "df.drop(range(2,12), axis=1, inplace=True)\n",
    "df.rename({0: 'student', 1: \"reason\"}, axis=1, inplace=True)"
   ]
  },
  {
   "cell_type": "code",
   "execution_count": 21,
   "metadata": {},
   "outputs": [],
   "source": [
    "reasons_df = pd.DataFrame(reasons).drop([2, 3, 4], axis=1)\n",
    "reasons_df.drop(reasons_df[reasons_df[1] == \"\"].index, inplace=True)\n",
    "reasons_df.rename(columns={0: \"reason\", 1: \"amount\"}, inplace=True)\n",
    "reasons_df.amount = reasons_df.amount.astype(int)"
   ]
  },
  {
   "cell_type": "code",
   "execution_count": 22,
   "metadata": {},
   "outputs": [],
   "source": [
    "df = pd.merge(df, reasons_df)\n",
    "df[\"to_add\"] = df.sum_of_pluses * df[\"amount\"].astype(int)"
   ]
  },
  {
   "cell_type": "code",
   "execution_count": 23,
   "metadata": {},
   "outputs": [
    {
     "name": "stderr",
     "output_type": "stream",
     "text": [
      "/var/folders/41/wrrf18wx6v11s79l8m6f70fh0000gp/T/ipykernel_3932/637581008.py:6: FutureWarning: The frame.append method is deprecated and will be removed from pandas in a future version. Use pandas.concat instead.\n",
      "  logs_df = logs_df.append({\"student\": row[0], \"reason\": row[1], \"amount\": row[3], \"date\": str(datetime.today()).split(\".\")[0]}, ignore_index=True)\n",
      "/var/folders/41/wrrf18wx6v11s79l8m6f70fh0000gp/T/ipykernel_3932/637581008.py:6: FutureWarning: The frame.append method is deprecated and will be removed from pandas in a future version. Use pandas.concat instead.\n",
      "  logs_df = logs_df.append({\"student\": row[0], \"reason\": row[1], \"amount\": row[3], \"date\": str(datetime.today()).split(\".\")[0]}, ignore_index=True)\n",
      "/var/folders/41/wrrf18wx6v11s79l8m6f70fh0000gp/T/ipykernel_3932/637581008.py:6: FutureWarning: The frame.append method is deprecated and will be removed from pandas in a future version. Use pandas.concat instead.\n",
      "  logs_df = logs_df.append({\"student\": row[0], \"reason\": row[1], \"amount\": row[3], \"date\": str(datetime.today()).split(\".\")[0]}, ignore_index=True)\n",
      "/var/folders/41/wrrf18wx6v11s79l8m6f70fh0000gp/T/ipykernel_3932/637581008.py:6: FutureWarning: The frame.append method is deprecated and will be removed from pandas in a future version. Use pandas.concat instead.\n",
      "  logs_df = logs_df.append({\"student\": row[0], \"reason\": row[1], \"amount\": row[3], \"date\": str(datetime.today()).split(\".\")[0]}, ignore_index=True)\n",
      "/var/folders/41/wrrf18wx6v11s79l8m6f70fh0000gp/T/ipykernel_3932/637581008.py:6: FutureWarning: The frame.append method is deprecated and will be removed from pandas in a future version. Use pandas.concat instead.\n",
      "  logs_df = logs_df.append({\"student\": row[0], \"reason\": row[1], \"amount\": row[3], \"date\": str(datetime.today()).split(\".\")[0]}, ignore_index=True)\n",
      "/var/folders/41/wrrf18wx6v11s79l8m6f70fh0000gp/T/ipykernel_3932/637581008.py:6: FutureWarning: The frame.append method is deprecated and will be removed from pandas in a future version. Use pandas.concat instead.\n",
      "  logs_df = logs_df.append({\"student\": row[0], \"reason\": row[1], \"amount\": row[3], \"date\": str(datetime.today()).split(\".\")[0]}, ignore_index=True)\n",
      "/var/folders/41/wrrf18wx6v11s79l8m6f70fh0000gp/T/ipykernel_3932/637581008.py:6: FutureWarning: The frame.append method is deprecated and will be removed from pandas in a future version. Use pandas.concat instead.\n",
      "  logs_df = logs_df.append({\"student\": row[0], \"reason\": row[1], \"amount\": row[3], \"date\": str(datetime.today()).split(\".\")[0]}, ignore_index=True)\n",
      "/var/folders/41/wrrf18wx6v11s79l8m6f70fh0000gp/T/ipykernel_3932/637581008.py:6: FutureWarning: The frame.append method is deprecated and will be removed from pandas in a future version. Use pandas.concat instead.\n",
      "  logs_df = logs_df.append({\"student\": row[0], \"reason\": row[1], \"amount\": row[3], \"date\": str(datetime.today()).split(\".\")[0]}, ignore_index=True)\n",
      "/var/folders/41/wrrf18wx6v11s79l8m6f70fh0000gp/T/ipykernel_3932/637581008.py:6: FutureWarning: The frame.append method is deprecated and will be removed from pandas in a future version. Use pandas.concat instead.\n",
      "  logs_df = logs_df.append({\"student\": row[0], \"reason\": row[1], \"amount\": row[3], \"date\": str(datetime.today()).split(\".\")[0]}, ignore_index=True)\n",
      "/var/folders/41/wrrf18wx6v11s79l8m6f70fh0000gp/T/ipykernel_3932/637581008.py:6: FutureWarning: The frame.append method is deprecated and will be removed from pandas in a future version. Use pandas.concat instead.\n",
      "  logs_df = logs_df.append({\"student\": row[0], \"reason\": row[1], \"amount\": row[3], \"date\": str(datetime.today()).split(\".\")[0]}, ignore_index=True)\n",
      "/var/folders/41/wrrf18wx6v11s79l8m6f70fh0000gp/T/ipykernel_3932/637581008.py:6: FutureWarning: The frame.append method is deprecated and will be removed from pandas in a future version. Use pandas.concat instead.\n",
      "  logs_df = logs_df.append({\"student\": row[0], \"reason\": row[1], \"amount\": row[3], \"date\": str(datetime.today()).split(\".\")[0]}, ignore_index=True)\n",
      "/var/folders/41/wrrf18wx6v11s79l8m6f70fh0000gp/T/ipykernel_3932/637581008.py:6: FutureWarning: The frame.append method is deprecated and will be removed from pandas in a future version. Use pandas.concat instead.\n",
      "  logs_df = logs_df.append({\"student\": row[0], \"reason\": row[1], \"amount\": row[3], \"date\": str(datetime.today()).split(\".\")[0]}, ignore_index=True)\n",
      "/var/folders/41/wrrf18wx6v11s79l8m6f70fh0000gp/T/ipykernel_3932/637581008.py:6: FutureWarning: The frame.append method is deprecated and will be removed from pandas in a future version. Use pandas.concat instead.\n",
      "  logs_df = logs_df.append({\"student\": row[0], \"reason\": row[1], \"amount\": row[3], \"date\": str(datetime.today()).split(\".\")[0]}, ignore_index=True)\n",
      "/var/folders/41/wrrf18wx6v11s79l8m6f70fh0000gp/T/ipykernel_3932/637581008.py:6: FutureWarning: The frame.append method is deprecated and will be removed from pandas in a future version. Use pandas.concat instead.\n",
      "  logs_df = logs_df.append({\"student\": row[0], \"reason\": row[1], \"amount\": row[3], \"date\": str(datetime.today()).split(\".\")[0]}, ignore_index=True)\n",
      "/var/folders/41/wrrf18wx6v11s79l8m6f70fh0000gp/T/ipykernel_3932/637581008.py:6: FutureWarning: The frame.append method is deprecated and will be removed from pandas in a future version. Use pandas.concat instead.\n",
      "  logs_df = logs_df.append({\"student\": row[0], \"reason\": row[1], \"amount\": row[3], \"date\": str(datetime.today()).split(\".\")[0]}, ignore_index=True)\n",
      "/var/folders/41/wrrf18wx6v11s79l8m6f70fh0000gp/T/ipykernel_3932/637581008.py:6: FutureWarning: The frame.append method is deprecated and will be removed from pandas in a future version. Use pandas.concat instead.\n",
      "  logs_df = logs_df.append({\"student\": row[0], \"reason\": row[1], \"amount\": row[3], \"date\": str(datetime.today()).split(\".\")[0]}, ignore_index=True)\n",
      "/var/folders/41/wrrf18wx6v11s79l8m6f70fh0000gp/T/ipykernel_3932/637581008.py:6: FutureWarning: The frame.append method is deprecated and will be removed from pandas in a future version. Use pandas.concat instead.\n",
      "  logs_df = logs_df.append({\"student\": row[0], \"reason\": row[1], \"amount\": row[3], \"date\": str(datetime.today()).split(\".\")[0]}, ignore_index=True)\n",
      "/var/folders/41/wrrf18wx6v11s79l8m6f70fh0000gp/T/ipykernel_3932/637581008.py:6: FutureWarning: The frame.append method is deprecated and will be removed from pandas in a future version. Use pandas.concat instead.\n",
      "  logs_df = logs_df.append({\"student\": row[0], \"reason\": row[1], \"amount\": row[3], \"date\": str(datetime.today()).split(\".\")[0]}, ignore_index=True)\n",
      "/var/folders/41/wrrf18wx6v11s79l8m6f70fh0000gp/T/ipykernel_3932/637581008.py:6: FutureWarning: The frame.append method is deprecated and will be removed from pandas in a future version. Use pandas.concat instead.\n",
      "  logs_df = logs_df.append({\"student\": row[0], \"reason\": row[1], \"amount\": row[3], \"date\": str(datetime.today()).split(\".\")[0]}, ignore_index=True)\n",
      "/var/folders/41/wrrf18wx6v11s79l8m6f70fh0000gp/T/ipykernel_3932/637581008.py:6: FutureWarning: The frame.append method is deprecated and will be removed from pandas in a future version. Use pandas.concat instead.\n",
      "  logs_df = logs_df.append({\"student\": row[0], \"reason\": row[1], \"amount\": row[3], \"date\": str(datetime.today()).split(\".\")[0]}, ignore_index=True)\n",
      "/var/folders/41/wrrf18wx6v11s79l8m6f70fh0000gp/T/ipykernel_3932/637581008.py:6: FutureWarning: The frame.append method is deprecated and will be removed from pandas in a future version. Use pandas.concat instead.\n",
      "  logs_df = logs_df.append({\"student\": row[0], \"reason\": row[1], \"amount\": row[3], \"date\": str(datetime.today()).split(\".\")[0]}, ignore_index=True)\n",
      "/var/folders/41/wrrf18wx6v11s79l8m6f70fh0000gp/T/ipykernel_3932/637581008.py:6: FutureWarning: The frame.append method is deprecated and will be removed from pandas in a future version. Use pandas.concat instead.\n",
      "  logs_df = logs_df.append({\"student\": row[0], \"reason\": row[1], \"amount\": row[3], \"date\": str(datetime.today()).split(\".\")[0]}, ignore_index=True)\n",
      "/var/folders/41/wrrf18wx6v11s79l8m6f70fh0000gp/T/ipykernel_3932/637581008.py:6: FutureWarning: The frame.append method is deprecated and will be removed from pandas in a future version. Use pandas.concat instead.\n",
      "  logs_df = logs_df.append({\"student\": row[0], \"reason\": row[1], \"amount\": row[3], \"date\": str(datetime.today()).split(\".\")[0]}, ignore_index=True)\n",
      "/var/folders/41/wrrf18wx6v11s79l8m6f70fh0000gp/T/ipykernel_3932/637581008.py:6: FutureWarning: The frame.append method is deprecated and will be removed from pandas in a future version. Use pandas.concat instead.\n",
      "  logs_df = logs_df.append({\"student\": row[0], \"reason\": row[1], \"amount\": row[3], \"date\": str(datetime.today()).split(\".\")[0]}, ignore_index=True)\n",
      "/var/folders/41/wrrf18wx6v11s79l8m6f70fh0000gp/T/ipykernel_3932/637581008.py:6: FutureWarning: The frame.append method is deprecated and will be removed from pandas in a future version. Use pandas.concat instead.\n",
      "  logs_df = logs_df.append({\"student\": row[0], \"reason\": row[1], \"amount\": row[3], \"date\": str(datetime.today()).split(\".\")[0]}, ignore_index=True)\n",
      "/var/folders/41/wrrf18wx6v11s79l8m6f70fh0000gp/T/ipykernel_3932/637581008.py:6: FutureWarning: The frame.append method is deprecated and will be removed from pandas in a future version. Use pandas.concat instead.\n",
      "  logs_df = logs_df.append({\"student\": row[0], \"reason\": row[1], \"amount\": row[3], \"date\": str(datetime.today()).split(\".\")[0]}, ignore_index=True)\n",
      "/var/folders/41/wrrf18wx6v11s79l8m6f70fh0000gp/T/ipykernel_3932/637581008.py:6: FutureWarning: The frame.append method is deprecated and will be removed from pandas in a future version. Use pandas.concat instead.\n",
      "  logs_df = logs_df.append({\"student\": row[0], \"reason\": row[1], \"amount\": row[3], \"date\": str(datetime.today()).split(\".\")[0]}, ignore_index=True)\n",
      "/var/folders/41/wrrf18wx6v11s79l8m6f70fh0000gp/T/ipykernel_3932/637581008.py:6: FutureWarning: The frame.append method is deprecated and will be removed from pandas in a future version. Use pandas.concat instead.\n",
      "  logs_df = logs_df.append({\"student\": row[0], \"reason\": row[1], \"amount\": row[3], \"date\": str(datetime.today()).split(\".\")[0]}, ignore_index=True)\n",
      "/var/folders/41/wrrf18wx6v11s79l8m6f70fh0000gp/T/ipykernel_3932/637581008.py:6: FutureWarning: The frame.append method is deprecated and will be removed from pandas in a future version. Use pandas.concat instead.\n",
      "  logs_df = logs_df.append({\"student\": row[0], \"reason\": row[1], \"amount\": row[3], \"date\": str(datetime.today()).split(\".\")[0]}, ignore_index=True)\n",
      "/var/folders/41/wrrf18wx6v11s79l8m6f70fh0000gp/T/ipykernel_3932/637581008.py:6: FutureWarning: The frame.append method is deprecated and will be removed from pandas in a future version. Use pandas.concat instead.\n",
      "  logs_df = logs_df.append({\"student\": row[0], \"reason\": row[1], \"amount\": row[3], \"date\": str(datetime.today()).split(\".\")[0]}, ignore_index=True)\n",
      "/var/folders/41/wrrf18wx6v11s79l8m6f70fh0000gp/T/ipykernel_3932/637581008.py:6: FutureWarning: The frame.append method is deprecated and will be removed from pandas in a future version. Use pandas.concat instead.\n",
      "  logs_df = logs_df.append({\"student\": row[0], \"reason\": row[1], \"amount\": row[3], \"date\": str(datetime.today()).split(\".\")[0]}, ignore_index=True)\n",
      "/var/folders/41/wrrf18wx6v11s79l8m6f70fh0000gp/T/ipykernel_3932/637581008.py:6: FutureWarning: The frame.append method is deprecated and will be removed from pandas in a future version. Use pandas.concat instead.\n",
      "  logs_df = logs_df.append({\"student\": row[0], \"reason\": row[1], \"amount\": row[3], \"date\": str(datetime.today()).split(\".\")[0]}, ignore_index=True)\n",
      "/var/folders/41/wrrf18wx6v11s79l8m6f70fh0000gp/T/ipykernel_3932/637581008.py:6: FutureWarning: The frame.append method is deprecated and will be removed from pandas in a future version. Use pandas.concat instead.\n",
      "  logs_df = logs_df.append({\"student\": row[0], \"reason\": row[1], \"amount\": row[3], \"date\": str(datetime.today()).split(\".\")[0]}, ignore_index=True)\n",
      "/var/folders/41/wrrf18wx6v11s79l8m6f70fh0000gp/T/ipykernel_3932/637581008.py:6: FutureWarning: The frame.append method is deprecated and will be removed from pandas in a future version. Use pandas.concat instead.\n",
      "  logs_df = logs_df.append({\"student\": row[0], \"reason\": row[1], \"amount\": row[3], \"date\": str(datetime.today()).split(\".\")[0]}, ignore_index=True)\n",
      "/var/folders/41/wrrf18wx6v11s79l8m6f70fh0000gp/T/ipykernel_3932/637581008.py:6: FutureWarning: The frame.append method is deprecated and will be removed from pandas in a future version. Use pandas.concat instead.\n",
      "  logs_df = logs_df.append({\"student\": row[0], \"reason\": row[1], \"amount\": row[3], \"date\": str(datetime.today()).split(\".\")[0]}, ignore_index=True)\n",
      "/var/folders/41/wrrf18wx6v11s79l8m6f70fh0000gp/T/ipykernel_3932/637581008.py:6: FutureWarning: The frame.append method is deprecated and will be removed from pandas in a future version. Use pandas.concat instead.\n",
      "  logs_df = logs_df.append({\"student\": row[0], \"reason\": row[1], \"amount\": row[3], \"date\": str(datetime.today()).split(\".\")[0]}, ignore_index=True)\n",
      "/var/folders/41/wrrf18wx6v11s79l8m6f70fh0000gp/T/ipykernel_3932/637581008.py:6: FutureWarning: The frame.append method is deprecated and will be removed from pandas in a future version. Use pandas.concat instead.\n",
      "  logs_df = logs_df.append({\"student\": row[0], \"reason\": row[1], \"amount\": row[3], \"date\": str(datetime.today()).split(\".\")[0]}, ignore_index=True)\n",
      "/var/folders/41/wrrf18wx6v11s79l8m6f70fh0000gp/T/ipykernel_3932/637581008.py:6: FutureWarning: The frame.append method is deprecated and will be removed from pandas in a future version. Use pandas.concat instead.\n",
      "  logs_df = logs_df.append({\"student\": row[0], \"reason\": row[1], \"amount\": row[3], \"date\": str(datetime.today()).split(\".\")[0]}, ignore_index=True)\n",
      "/var/folders/41/wrrf18wx6v11s79l8m6f70fh0000gp/T/ipykernel_3932/637581008.py:6: FutureWarning: The frame.append method is deprecated and will be removed from pandas in a future version. Use pandas.concat instead.\n",
      "  logs_df = logs_df.append({\"student\": row[0], \"reason\": row[1], \"amount\": row[3], \"date\": str(datetime.today()).split(\".\")[0]}, ignore_index=True)\n",
      "/var/folders/41/wrrf18wx6v11s79l8m6f70fh0000gp/T/ipykernel_3932/637581008.py:6: FutureWarning: The frame.append method is deprecated and will be removed from pandas in a future version. Use pandas.concat instead.\n",
      "  logs_df = logs_df.append({\"student\": row[0], \"reason\": row[1], \"amount\": row[3], \"date\": str(datetime.today()).split(\".\")[0]}, ignore_index=True)\n",
      "/var/folders/41/wrrf18wx6v11s79l8m6f70fh0000gp/T/ipykernel_3932/637581008.py:6: FutureWarning: The frame.append method is deprecated and will be removed from pandas in a future version. Use pandas.concat instead.\n",
      "  logs_df = logs_df.append({\"student\": row[0], \"reason\": row[1], \"amount\": row[3], \"date\": str(datetime.today()).split(\".\")[0]}, ignore_index=True)\n",
      "/var/folders/41/wrrf18wx6v11s79l8m6f70fh0000gp/T/ipykernel_3932/637581008.py:6: FutureWarning: The frame.append method is deprecated and will be removed from pandas in a future version. Use pandas.concat instead.\n",
      "  logs_df = logs_df.append({\"student\": row[0], \"reason\": row[1], \"amount\": row[3], \"date\": str(datetime.today()).split(\".\")[0]}, ignore_index=True)\n",
      "/var/folders/41/wrrf18wx6v11s79l8m6f70fh0000gp/T/ipykernel_3932/637581008.py:6: FutureWarning: The frame.append method is deprecated and will be removed from pandas in a future version. Use pandas.concat instead.\n",
      "  logs_df = logs_df.append({\"student\": row[0], \"reason\": row[1], \"amount\": row[3], \"date\": str(datetime.today()).split(\".\")[0]}, ignore_index=True)\n",
      "/var/folders/41/wrrf18wx6v11s79l8m6f70fh0000gp/T/ipykernel_3932/637581008.py:6: FutureWarning: The frame.append method is deprecated and will be removed from pandas in a future version. Use pandas.concat instead.\n",
      "  logs_df = logs_df.append({\"student\": row[0], \"reason\": row[1], \"amount\": row[3], \"date\": str(datetime.today()).split(\".\")[0]}, ignore_index=True)\n",
      "/var/folders/41/wrrf18wx6v11s79l8m6f70fh0000gp/T/ipykernel_3932/637581008.py:6: FutureWarning: The frame.append method is deprecated and will be removed from pandas in a future version. Use pandas.concat instead.\n",
      "  logs_df = logs_df.append({\"student\": row[0], \"reason\": row[1], \"amount\": row[3], \"date\": str(datetime.today()).split(\".\")[0]}, ignore_index=True)\n",
      "/var/folders/41/wrrf18wx6v11s79l8m6f70fh0000gp/T/ipykernel_3932/637581008.py:6: FutureWarning: The frame.append method is deprecated and will be removed from pandas in a future version. Use pandas.concat instead.\n",
      "  logs_df = logs_df.append({\"student\": row[0], \"reason\": row[1], \"amount\": row[3], \"date\": str(datetime.today()).split(\".\")[0]}, ignore_index=True)\n",
      "/var/folders/41/wrrf18wx6v11s79l8m6f70fh0000gp/T/ipykernel_3932/637581008.py:6: FutureWarning: The frame.append method is deprecated and will be removed from pandas in a future version. Use pandas.concat instead.\n",
      "  logs_df = logs_df.append({\"student\": row[0], \"reason\": row[1], \"amount\": row[3], \"date\": str(datetime.today()).split(\".\")[0]}, ignore_index=True)\n",
      "/var/folders/41/wrrf18wx6v11s79l8m6f70fh0000gp/T/ipykernel_3932/637581008.py:6: FutureWarning: The frame.append method is deprecated and will be removed from pandas in a future version. Use pandas.concat instead.\n",
      "  logs_df = logs_df.append({\"student\": row[0], \"reason\": row[1], \"amount\": row[3], \"date\": str(datetime.today()).split(\".\")[0]}, ignore_index=True)\n",
      "/var/folders/41/wrrf18wx6v11s79l8m6f70fh0000gp/T/ipykernel_3932/637581008.py:6: FutureWarning: The frame.append method is deprecated and will be removed from pandas in a future version. Use pandas.concat instead.\n",
      "  logs_df = logs_df.append({\"student\": row[0], \"reason\": row[1], \"amount\": row[3], \"date\": str(datetime.today()).split(\".\")[0]}, ignore_index=True)\n",
      "/var/folders/41/wrrf18wx6v11s79l8m6f70fh0000gp/T/ipykernel_3932/637581008.py:6: FutureWarning: The frame.append method is deprecated and will be removed from pandas in a future version. Use pandas.concat instead.\n",
      "  logs_df = logs_df.append({\"student\": row[0], \"reason\": row[1], \"amount\": row[3], \"date\": str(datetime.today()).split(\".\")[0]}, ignore_index=True)\n",
      "/var/folders/41/wrrf18wx6v11s79l8m6f70fh0000gp/T/ipykernel_3932/637581008.py:6: FutureWarning: The frame.append method is deprecated and will be removed from pandas in a future version. Use pandas.concat instead.\n",
      "  logs_df = logs_df.append({\"student\": row[0], \"reason\": row[1], \"amount\": row[3], \"date\": str(datetime.today()).split(\".\")[0]}, ignore_index=True)\n",
      "/var/folders/41/wrrf18wx6v11s79l8m6f70fh0000gp/T/ipykernel_3932/637581008.py:6: FutureWarning: The frame.append method is deprecated and will be removed from pandas in a future version. Use pandas.concat instead.\n",
      "  logs_df = logs_df.append({\"student\": row[0], \"reason\": row[1], \"amount\": row[3], \"date\": str(datetime.today()).split(\".\")[0]}, ignore_index=True)\n",
      "/var/folders/41/wrrf18wx6v11s79l8m6f70fh0000gp/T/ipykernel_3932/637581008.py:6: FutureWarning: The frame.append method is deprecated and will be removed from pandas in a future version. Use pandas.concat instead.\n",
      "  logs_df = logs_df.append({\"student\": row[0], \"reason\": row[1], \"amount\": row[3], \"date\": str(datetime.today()).split(\".\")[0]}, ignore_index=True)\n",
      "/var/folders/41/wrrf18wx6v11s79l8m6f70fh0000gp/T/ipykernel_3932/637581008.py:6: FutureWarning: The frame.append method is deprecated and will be removed from pandas in a future version. Use pandas.concat instead.\n",
      "  logs_df = logs_df.append({\"student\": row[0], \"reason\": row[1], \"amount\": row[3], \"date\": str(datetime.today()).split(\".\")[0]}, ignore_index=True)\n",
      "/var/folders/41/wrrf18wx6v11s79l8m6f70fh0000gp/T/ipykernel_3932/637581008.py:6: FutureWarning: The frame.append method is deprecated and will be removed from pandas in a future version. Use pandas.concat instead.\n",
      "  logs_df = logs_df.append({\"student\": row[0], \"reason\": row[1], \"amount\": row[3], \"date\": str(datetime.today()).split(\".\")[0]}, ignore_index=True)\n",
      "/var/folders/41/wrrf18wx6v11s79l8m6f70fh0000gp/T/ipykernel_3932/637581008.py:6: FutureWarning: The frame.append method is deprecated and will be removed from pandas in a future version. Use pandas.concat instead.\n",
      "  logs_df = logs_df.append({\"student\": row[0], \"reason\": row[1], \"amount\": row[3], \"date\": str(datetime.today()).split(\".\")[0]}, ignore_index=True)\n",
      "/var/folders/41/wrrf18wx6v11s79l8m6f70fh0000gp/T/ipykernel_3932/637581008.py:6: FutureWarning: The frame.append method is deprecated and will be removed from pandas in a future version. Use pandas.concat instead.\n",
      "  logs_df = logs_df.append({\"student\": row[0], \"reason\": row[1], \"amount\": row[3], \"date\": str(datetime.today()).split(\".\")[0]}, ignore_index=True)\n",
      "/var/folders/41/wrrf18wx6v11s79l8m6f70fh0000gp/T/ipykernel_3932/637581008.py:6: FutureWarning: The frame.append method is deprecated and will be removed from pandas in a future version. Use pandas.concat instead.\n",
      "  logs_df = logs_df.append({\"student\": row[0], \"reason\": row[1], \"amount\": row[3], \"date\": str(datetime.today()).split(\".\")[0]}, ignore_index=True)\n",
      "/var/folders/41/wrrf18wx6v11s79l8m6f70fh0000gp/T/ipykernel_3932/637581008.py:6: FutureWarning: The frame.append method is deprecated and will be removed from pandas in a future version. Use pandas.concat instead.\n",
      "  logs_df = logs_df.append({\"student\": row[0], \"reason\": row[1], \"amount\": row[3], \"date\": str(datetime.today()).split(\".\")[0]}, ignore_index=True)\n",
      "/var/folders/41/wrrf18wx6v11s79l8m6f70fh0000gp/T/ipykernel_3932/637581008.py:6: FutureWarning: The frame.append method is deprecated and will be removed from pandas in a future version. Use pandas.concat instead.\n",
      "  logs_df = logs_df.append({\"student\": row[0], \"reason\": row[1], \"amount\": row[3], \"date\": str(datetime.today()).split(\".\")[0]}, ignore_index=True)\n",
      "/var/folders/41/wrrf18wx6v11s79l8m6f70fh0000gp/T/ipykernel_3932/637581008.py:6: FutureWarning: The frame.append method is deprecated and will be removed from pandas in a future version. Use pandas.concat instead.\n",
      "  logs_df = logs_df.append({\"student\": row[0], \"reason\": row[1], \"amount\": row[3], \"date\": str(datetime.today()).split(\".\")[0]}, ignore_index=True)\n",
      "/var/folders/41/wrrf18wx6v11s79l8m6f70fh0000gp/T/ipykernel_3932/637581008.py:6: FutureWarning: The frame.append method is deprecated and will be removed from pandas in a future version. Use pandas.concat instead.\n",
      "  logs_df = logs_df.append({\"student\": row[0], \"reason\": row[1], \"amount\": row[3], \"date\": str(datetime.today()).split(\".\")[0]}, ignore_index=True)\n",
      "/var/folders/41/wrrf18wx6v11s79l8m6f70fh0000gp/T/ipykernel_3932/637581008.py:6: FutureWarning: The frame.append method is deprecated and will be removed from pandas in a future version. Use pandas.concat instead.\n",
      "  logs_df = logs_df.append({\"student\": row[0], \"reason\": row[1], \"amount\": row[3], \"date\": str(datetime.today()).split(\".\")[0]}, ignore_index=True)\n",
      "/var/folders/41/wrrf18wx6v11s79l8m6f70fh0000gp/T/ipykernel_3932/637581008.py:6: FutureWarning: The frame.append method is deprecated and will be removed from pandas in a future version. Use pandas.concat instead.\n",
      "  logs_df = logs_df.append({\"student\": row[0], \"reason\": row[1], \"amount\": row[3], \"date\": str(datetime.today()).split(\".\")[0]}, ignore_index=True)\n"
     ]
    }
   ],
   "source": [
    "logs_df = pd.DataFrame(columns=['student', 'reason', 'amount', \"date\"])\n",
    "\n",
    "from datetime import datetime\n",
    "for row in df[df.sum_of_pluses != 0].values:\n",
    "    for i in range(row[2]): \n",
    "        logs_df = logs_df.append({\"student\": row[0], \"reason\": row[1], \"amount\": row[3], \"date\": str(datetime.today()).split(\".\")[0]}, ignore_index=True)\n",
    "logs_df.reset_index(drop=True, inplace=True)"
   ]
  },
  {
   "cell_type": "code",
   "execution_count": 24,
   "metadata": {},
   "outputs": [],
   "source": [
    "if past_logs != []:\n",
    "    past_logs_df = pd.DataFrame(past_logs)\n",
    "    past_logs_df.rename(columns={0: 'student', 1: 'reason', 2: 'amount', 3: 'date'}, inplace=True)\n",
    "    past_logs_df.amount = past_logs_df.amount.astype(int)\n",
    "else:\n",
    "    past_logs_df = pd.DataFrame(columns=['student', 'reason', 'amount', 'date'])"
   ]
  },
  {
   "cell_type": "code",
   "execution_count": 25,
   "metadata": {},
   "outputs": [],
   "source": [
    "groups_past_logs = past_logs_df.groupby([past_logs_df.student, past_logs_df.reason, logs_df.amount], as_index=False).date.count()\n",
    "groups_logs = logs_df.groupby([logs_df.student, logs_df.reason, logs_df.amount], as_index=False).date.count()\n",
    "groups_logs = groups_logs.merge(groups_past_logs, on=['student', 'reason'], how=\"outer\").fillna(0)\n",
    "groups_logs[\"diff_count\"] = groups_logs.date_x - groups_logs.date_y"
   ]
  },
  {
   "cell_type": "code",
   "execution_count": 26,
   "metadata": {},
   "outputs": [],
   "source": [
    "logs_to_add = pd.DataFrame(columns=['student', 'reason', 'amount', 'date'])\n",
    "for event in groups_logs[groups_logs.diff_count != 0].values:\n",
    "    df = pd.DataFrame([[event[0], event[1], event[2], str(datetime.today()).split(\".\")[0]]], columns=['student', 'reason', 'amount', 'date'])\n",
    "    for _ in range(int(event[-1])):\n",
    "        logs_to_add = pd.concat([logs_to_add, df], ignore_index=True)"
   ]
  },
  {
   "cell_type": "markdown",
   "metadata": {},
   "source": [
    "# Закрываем месяц"
   ]
  },
  {
   "cell_type": "code",
   "execution_count": 27,
   "metadata": {},
   "outputs": [],
   "source": [
    "try:\n",
    "    if datetime.today().month != pd.to_datetime(past_logs_df.date[0]).month:\n",
    "        amount_last_month = [[i[2]] for i in accounts]\n",
    "        write_data(\"Аккаунты\", amount_last_month, from_top=True, is_logs=False)\n",
    "        \n",
    "        history = read_data(\"История\")\n",
    "        write_data('История', past_logs, from_top=False, is_logs=True)\n",
    "\n",
    "        clear_logs()\n",
    "except IndexError:\n",
    "    pass"
   ]
  },
  {
   "cell_type": "markdown",
   "metadata": {},
   "source": [
    "# Вносим данные"
   ]
  },
  {
   "cell_type": "code",
   "execution_count": 38,
   "metadata": {},
   "outputs": [],
   "source": [
    "if not logs_to_add.empty:\n",
    "    l = [i.tolist() for i in logs_to_add.values]\n",
    "    write_data(\"Логи\", l, from_top=False, is_logs=True)"
   ]
  }
 ],
 "metadata": {
  "kernelspec": {
   "display_name": "Python 3.10.4 64-bit",
   "language": "python",
   "name": "python3"
  },
  "language_info": {
   "codemirror_mode": {
    "name": "ipython",
    "version": 3
   },
   "file_extension": ".py",
   "mimetype": "text/x-python",
   "name": "python",
   "nbconvert_exporter": "python",
   "pygments_lexer": "ipython3",
   "version": "3.10.4"
  },
  "orig_nbformat": 4,
  "vscode": {
   "interpreter": {
    "hash": "aee8b7b246df8f9039afb4144a1f6fd8d2ca17a180786b69acc140d282b71a49"
   }
  }
 },
 "nbformat": 4,
 "nbformat_minor": 2
}
